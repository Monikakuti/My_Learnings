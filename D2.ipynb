{
 "cells": [
  {
   "cell_type": "code",
   "execution_count": null,
   "id": "a4ccf0fd",
   "metadata": {},
   "outputs": [],
   "source": [
    "\"\"\"\n",
    "Lists: Ordered, mutable collections\n",
    "\n",
    "Tuples: Ordered, immutable collections\n",
    "\n",
    "Sets: Unordered collections with no duplicates\n",
    "\n",
    "Dictionaries: Key-value pairs\n",
    "\n",
    "\"\"\""
   ]
  },
  {
   "cell_type": "code",
   "execution_count": null,
   "id": "cd8a1689",
   "metadata": {},
   "outputs": [],
   "source": [
    "'''Lists: Ordered, Mutable Collections\n",
    "\n",
    "A list can store multiple items in a specific order. You can change (or \"mutate\") items in the list.\n",
    "\n",
    "Mutable: You can modify a list after creating it.\n",
    "\n",
    "Ordered: Lists maintain the order in which items are inserted.\n",
    "\n",
    "Can store different data types: Strings, integers, etc.'''"
   ]
  },
  {
   "cell_type": "code",
   "execution_count": 1,
   "id": "d8248048",
   "metadata": {},
   "outputs": [
    {
     "name": "stdout",
     "output_type": "stream",
     "text": [
      "apple\n",
      "['apple', 'orange', 'cherry']\n"
     ]
    }
   ],
   "source": [
    "fruits = [\"apple\", \"banana\", \"cherry\"]\n",
    "print(fruits[0])  # Output: apple\n",
    "fruits[1] = \"orange\"\n",
    "print(fruits)  # Output: ['apple', 'orange', 'cherry']\n"
   ]
  },
  {
   "cell_type": "code",
   "execution_count": 4,
   "id": "bb6f55a5",
   "metadata": {},
   "outputs": [
    {
     "name": "stdout",
     "output_type": "stream",
     "text": [
      "['Moni', 'Prithi', 'Kishore', 'Janani', 'Malu']\n",
      "['Moni', 'Prithi', 'Kittu', 'Janani', 'Malu']\n"
     ]
    }
   ],
   "source": [
    "Names=['Moni','Prithi','Kishore','Janani','Malu']\n",
    "print(Names)\n",
    "Names[2]='Kittu'\n",
    "print(Names)"
   ]
  },
  {
   "cell_type": "code",
   "execution_count": null,
   "id": "5f624e79",
   "metadata": {},
   "outputs": [],
   "source": [
    "'''Tuples: Ordered, Immutable Collections\n",
    "\n",
    "Tuples are like lists, but they cannot be changed after creation (immutable). They're faster than lists for certain operations.\n",
    "\n",
    "Immutable: Cannot be changed after creation.\n",
    "\n",
    "Ordered: Like lists, tuples maintain the order.\n",
    "\n",
    "Use Case: Tuples are used when you want to store data that shouldn't be modified.\n",
    "\n",
    "'''"
   ]
  },
  {
   "cell_type": "code",
   "execution_count": 11,
   "id": "0b4054fb",
   "metadata": {},
   "outputs": [
    {
     "name": "stdout",
     "output_type": "stream",
     "text": [
      "4\n"
     ]
    },
    {
     "ename": "TypeError",
     "evalue": "'tuple' object does not support item assignment",
     "output_type": "error",
     "traceback": [
      "\u001b[1;31m---------------------------------------------------------------------------\u001b[0m",
      "\u001b[1;31mTypeError\u001b[0m                                 Traceback (most recent call last)",
      "Cell \u001b[1;32mIn[11], line 3\u001b[0m\n\u001b[0;32m      1\u001b[0m coordinates \u001b[38;5;241m=\u001b[39m (\u001b[38;5;241m4\u001b[39m, \u001b[38;5;241m5\u001b[39m)\n\u001b[0;32m      2\u001b[0m \u001b[38;5;28mprint\u001b[39m(coordinates[\u001b[38;5;241m0\u001b[39m])  \u001b[38;5;66;03m# Output: 4\u001b[39;00m\n\u001b[1;32m----> 3\u001b[0m \u001b[43mcoordinates\u001b[49m\u001b[43m[\u001b[49m\u001b[38;5;241;43m1\u001b[39;49m\u001b[43m]\u001b[49m \u001b[38;5;241m=\u001b[39m \u001b[38;5;241m10\u001b[39m  \u001b[38;5;66;03m# This would throw an error because tuples are immutable\u001b[39;00m\n",
      "\u001b[1;31mTypeError\u001b[0m: 'tuple' object does not support item assignment"
     ]
    }
   ],
   "source": [
    "coordinates = (4, 5)\n",
    "print(coordinates[0])  # Output: 4\n",
    "coordinates[1] = 10  # This would throw an error because tuples are immutable\n"
   ]
  },
  {
   "cell_type": "code",
   "execution_count": null,
   "id": "43ba935f",
   "metadata": {},
   "outputs": [
    {
     "name": "stdout",
     "output_type": "stream",
     "text": [
      "2017\n",
      "------\n"
     ]
    },
    {
     "ename": "TypeError",
     "evalue": "'tuple' object does not support item assignment",
     "output_type": "error",
     "traceback": [
      "\u001b[1;31m---------------------------------------------------------------------------\u001b[0m",
      "\u001b[1;31mTypeError\u001b[0m                                 Traceback (most recent call last)",
      "Cell \u001b[1;32mIn[13], line 4\u001b[0m\n\u001b[0;32m      2\u001b[0m \u001b[38;5;28mprint\u001b[39m(a[\u001b[38;5;241m0\u001b[39m])\n\u001b[0;32m      3\u001b[0m \u001b[38;5;28mprint\u001b[39m(\u001b[38;5;124m'\u001b[39m\u001b[38;5;124m------\u001b[39m\u001b[38;5;124m'\u001b[39m)\n\u001b[1;32m----> 4\u001b[0m \u001b[43ma\u001b[49m\u001b[43m[\u001b[49m\u001b[38;5;241;43m0\u001b[39;49m\u001b[43m]\u001b[49m\u001b[38;5;241m=\u001b[39m\u001b[38;5;241m2023\u001b[39m\n\u001b[0;32m      5\u001b[0m \u001b[38;5;28mprint\u001b[39m(a[\u001b[38;5;241m0\u001b[39m])\n",
      "\u001b[1;31mTypeError\u001b[0m: 'tuple' object does not support item assignment"
     ]
    }
   ],
   "source": [
    "a=(2017,2018,2019)\n",
    "print(a[0])\n",
    "print('------')\n",
    "a[0]=2023\n"
   ]
  },
  {
   "cell_type": "code",
   "execution_count": null,
   "id": "5a2cb946",
   "metadata": {},
   "outputs": [],
   "source": [
    "'''Sets: Unordered Collections, No Duplicates\n",
    "\n",
    "Sets are unordered collections that don’t allow duplicate values.\n",
    "\n",
    "They’re great for checking membership (whether an item is in the set) or performing mathematical set operations like union and intersection.\n",
    "\n",
    "Unordered: Items don’t have a specific position.\n",
    "\n",
    "No Duplicates: You can’t have repeated items in a set.\n",
    "\n",
    "Use Case: When you want to work with unique items, e.g., checking if an item exists without caring about the order\n",
    "'''"
   ]
  },
  {
   "cell_type": "code",
   "execution_count": 18,
   "id": "718258ba",
   "metadata": {},
   "outputs": [
    {
     "name": "stdout",
     "output_type": "stream",
     "text": [
      "{'orange', 'banana', 'cherry', 'apple'}\n",
      "{'orange', 'cherry', 'apple'}\n"
     ]
    }
   ],
   "source": [
    "fruits_set = {\"apple\", \"banana\", \"cherry\"}\n",
    "fruits_set.add(\"orange\")  # Adds a new item\n",
    "print(fruits_set)\n",
    "fruits_set.remove(\"banana\")  # Removes an item\n",
    "print(fruits_set)  # Output might be in a different order due to unordered nature\n"
   ]
  },
  {
   "cell_type": "code",
   "execution_count": 16,
   "id": "654c245e",
   "metadata": {},
   "outputs": [
    {
     "name": "stdout",
     "output_type": "stream",
     "text": [
      "{1, 2, 3, 4, 5, 6}\n",
      "{1, 2, 4, 5, 6}\n"
     ]
    }
   ],
   "source": [
    "a={1,2,3,4,5}\n",
    "a.add(6)\n",
    "print(a)\n",
    "a.remove(3)\n",
    "print(a)"
   ]
  },
  {
   "cell_type": "code",
   "execution_count": null,
   "id": "6d6942f8",
   "metadata": {},
   "outputs": [],
   "source": [
    "'''Dictionaries: Key-Value Pairs\n",
    "\n",
    "A dictionary stores data as key-value pairs, where each key maps to a value. \n",
    "\n",
    "It's like a real-life dictionary where you look up a word (key) to get its meaning (value).\n",
    "\n",
    "Key-Value: You retrieve data by using the key.\n",
    "\n",
    "Mutable: You can modify values.\n",
    "\n",
    "Unordered: No specific order for keys.\n",
    "\n",
    "Use Case: Useful for storing data that requires a unique identifier (e.g., name, id).\n",
    "\n",
    "'''"
   ]
  },
  {
   "cell_type": "code",
   "execution_count": 19,
   "id": "557489fb",
   "metadata": {},
   "outputs": [
    {
     "name": "stdout",
     "output_type": "stream",
     "text": [
      "Alice\n",
      "{'name': 'Alice', 'age': 26, 'city': 'New York'}\n"
     ]
    }
   ],
   "source": [
    "person = {\n",
    "    \"name\": \"Alice\",\n",
    "    \"age\": 25,\n",
    "    \"city\": \"New York\"\n",
    "}\n",
    "\n",
    "print(person[\"name\"])  # Output: Alice\n",
    "person[\"age\"] = 26  # Update value\n",
    "print(person)\n"
   ]
  },
  {
   "cell_type": "code",
   "execution_count": 23,
   "id": "6736adaf",
   "metadata": {},
   "outputs": [
    {
     "name": "stdout",
     "output_type": "stream",
     "text": [
      "{'Name': 'Titanic', 'Director': 'James Cameron', 'Year': '1997'}\n",
      "Titanic\n"
     ]
    }
   ],
   "source": [
    "Flim={'Name':'Titanic','Director':'James Cameron','Year':'1997'}\n",
    "print(Flim)\n",
    "print(Flim['Name'])"
   ]
  },
  {
   "cell_type": "code",
   "execution_count": 26,
   "id": "d4be1b0a",
   "metadata": {},
   "outputs": [
    {
     "data": {
      "text/plain": [
       "'Create a program that:\\n\\nAsks for 3 of your favorite foods and stores them in a list.\\n\\nConverts the list into a set (to remove duplicates).\\n\\nCreate a dictionary with:\\n\\nKey: Food name\\n\\nValue: Its type (e.g., fruit, vegetable, etc.)\\n\\n'"
      ]
     },
     "execution_count": 26,
     "metadata": {},
     "output_type": "execute_result"
    }
   ],
   "source": [
    "'''Create a program that:\n",
    "\n",
    "Asks for 3 of your favorite foods and stores them in a list.\n",
    "\n",
    "Converts the list into a set (to remove duplicates).\n",
    "\n",
    "Create a dictionary with:\n",
    "\n",
    "Key: Food name\n",
    "\n",
    "Value: Its type (e.g., fruit, vegetable, etc.)\n",
    "\n",
    "'''"
   ]
  },
  {
   "cell_type": "code",
   "execution_count": null,
   "id": "14dcd673",
   "metadata": {},
   "outputs": [
    {
     "name": "stdout",
     "output_type": "stream",
     "text": [
      "Your food list: ['Dosa', 'Idly', 'Poori']\n",
      "Unique food set: {'Poori', 'Idly', 'Dosa'}\n",
      "Your food dictionary:\n",
      "{'Poori': 'Grain', 'Idly': 'Grain', 'Dosa': 'Grain'}\n"
     ]
    }
   ],
   "source": [
    "# Step 1: Ask user for 3 favorite foods and store in a list\n",
    "food1 = input(\"Enter your first favorite food: \")\n",
    "food2 = input(\"Enter your second favorite food: \")\n",
    "food3 = input(\"Enter your third favorite food: \")\n",
    "\n",
    "food_list = [food1, food2, food3]\n",
    "print(\"Your food list:\", food_list)\n",
    "\n",
    "# Step 2: Convert list to set to remove duplicates\n",
    "food_set = set(food_list)\n",
    "print(\"Unique food set:\", food_set)\n",
    "\n",
    "# Step 3: Create a dictionary with food name as key and type as value\n",
    "food_dict = {}\n",
    "\n",
    "for food in food_set:\n",
    "    food_type = input(f\"What type is '{food}'? (e.g., fruit, veg, grain): \")\n",
    "    food_dict[food] = food_type\n",
    "\n",
    "# Final Output\n",
    "print(\"Your food dictionary:\")\n",
    "print(food_dict)\n",
    "\n",
    "\n",
    "'''input() is used to take food names from the user.\n",
    "\n",
    "list stores all the entries.\n",
    "\n",
    "set removes any duplicates automatically.\n",
    "\n",
    "dictionary is built by asking you to describe each food '''"
   ]
  }
 ],
 "metadata": {
  "kernelspec": {
   "display_name": "Python 3",
   "language": "python",
   "name": "python3"
  },
  "language_info": {
   "codemirror_mode": {
    "name": "ipython",
    "version": 3
   },
   "file_extension": ".py",
   "mimetype": "text/x-python",
   "name": "python",
   "nbconvert_exporter": "python",
   "pygments_lexer": "ipython3",
   "version": "3.12.5"
  }
 },
 "nbformat": 4,
 "nbformat_minor": 5
}
