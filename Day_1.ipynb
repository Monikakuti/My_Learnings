{
 "cells": [
  {
   "cell_type": "code",
   "execution_count": 1,
   "metadata": {},
   "outputs": [
    {
     "name": "stdout",
     "output_type": "stream",
     "text": [
      "Hello, my name is Monika\n"
     ]
    }
   ],
   "source": [
    "print(\"Hello, my name is Monika\")\n"
   ]
  },
  {
   "cell_type": "code",
   "execution_count": null,
   "metadata": {},
   "outputs": [
    {
     "name": "stdout",
     "output_type": "stream",
     "text": [
      "5\n",
      "4\n",
      "6\n",
      "8.0\n"
     ]
    }
   ],
   "source": [
    "print(5 + 0)\n",
    "print(10 - 6)\n",
    "print(3 * 2)\n",
    "print(16 / 2)"
   ]
  },
  {
   "cell_type": "code",
   "execution_count": 6,
   "metadata": {},
   "outputs": [],
   "source": [
    "# A variable like a box where you store information. You give it a name, and it holds a value.\n",
    "name = \"Monika\"\n",
    "age = 23\n",
    "is_coding = True"
   ]
  },
  {
   "cell_type": "code",
   "execution_count": 7,
   "metadata": {},
   "outputs": [
    {
     "name": "stdout",
     "output_type": "stream",
     "text": [
      "Monika\n",
      "24\n",
      "Is Monika coding today? True\n"
     ]
    }
   ],
   "source": [
    "print(name)\n",
    "print(age + 1)\n",
    "print(\"Is Monika coding today?\", is_coding)\n"
   ]
  },
  {
   "cell_type": "code",
   "execution_count": 8,
   "metadata": {},
   "outputs": [
    {
     "name": "stdout",
     "output_type": "stream",
     "text": [
      "Name: Monika\n",
      "Age next year: 25\n",
      "Height: 5.3\n",
      "Does she love coding? True\n"
     ]
    }
   ],
   "source": [
    "name = \"Monika\"\n",
    "age = 24\n",
    "height = 5.3\n",
    "loves_coding = True\n",
    "\n",
    "print(\"Name:\", name)\n",
    "print(\"Age next year:\", age + 1)\n",
    "print(\"Height:\", height)\n",
    "print(\"Does she love coding?\", loves_coding)\n"
   ]
  },
  {
   "cell_type": "code",
   "execution_count": 9,
   "metadata": {},
   "outputs": [
    {
     "name": "stdout",
     "output_type": "stream",
     "text": [
      "Hello, Moni\n"
     ]
    }
   ],
   "source": [
    "#input() - The input() function lets you ask the user a question and capture their answer.\n",
    "\n",
    "name = input(\"What's your name? \")\n",
    "print(\"Hello,\", name)\n"
   ]
  },
  {
   "cell_type": "code",
   "execution_count": 10,
   "metadata": {},
   "outputs": [
    {
     "name": "stdout",
     "output_type": "stream",
     "text": [
      "\n",
      "🧡 About You 🧡\n",
      "Name: Moni\n",
      "Age: 24\n",
      "Loves Coding?: yes\n"
     ]
    }
   ],
   "source": [
    "name = input(\"What’s your name? \")\n",
    "age = input(\"How old are you? \")\n",
    "loves_coding = input(\"Do you love coding? (yes/no) \")\n",
    "\n",
    "print(\"\\n🧡 About You 🧡\")\n",
    "print(\"Name:\", name)\n",
    "print(\"Age:\", age)\n",
    "print(\"Loves Coding?:\", loves_coding)\n"
   ]
  },
  {
   "cell_type": "code",
   "execution_count": 11,
   "metadata": {},
   "outputs": [
    {
     "name": "stdout",
     "output_type": "stream",
     "text": [
      "Next year, you’ll be 25 years old!\n"
     ]
    }
   ],
   "source": [
    "age = int(input(\"How old are you? \"))\n",
    "print(\"Next year, you’ll be\", age + 1, \"years old!\")\n"
   ]
  },
  {
   "cell_type": "code",
   "execution_count": 12,
   "metadata": {},
   "outputs": [
    {
     "name": "stdout",
     "output_type": "stream",
     "text": [
      "MONIKA IS A FUTURE DATA SCIENTIST AND I LOVE HER!!!\n"
     ]
    }
   ],
   "source": [
    "print(\"MONIKA IS A FUTURE DATA SCIENTIST AND I LOVE HER!!!\")"
   ]
  }
 ],
 "metadata": {
  "kernelspec": {
   "display_name": "Python 3",
   "language": "python",
   "name": "python3"
  },
  "language_info": {
   "codemirror_mode": {
    "name": "ipython",
    "version": 3
   },
   "file_extension": ".py",
   "mimetype": "text/x-python",
   "name": "python",
   "nbconvert_exporter": "python",
   "pygments_lexer": "ipython3",
   "version": "3.12.5"
  }
 },
 "nbformat": 4,
 "nbformat_minor": 2
}
