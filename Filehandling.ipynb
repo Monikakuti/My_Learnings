{
 "cells": [
  {
   "cell_type": "code",
   "execution_count": null,
   "id": "79eb76a3",
   "metadata": {},
   "outputs": [],
   "source": [
    "#🧠 What is File Handling?\n",
    "#File handling in Python means reading from and writing to files stored on your computer."
   ]
  },
  {
   "cell_type": "code",
   "execution_count": null,
   "id": "3733a062",
   "metadata": {},
   "outputs": [],
   "source": [
    "'''1. Opening a File\n",
    "To open a file, we use the open() function.\n",
    "You need to tell Python:\n",
    "What file you want to open\n",
    "What you want to do with it: read (r), write (w), append (a), etc.'''\n",
    "\n",
    "#Syntax:\n",
    "file = open(\"filename.txt\", \"mode\")\n",
    "\n",
    "'''Modes:\n",
    "\"r\": Read (default, file must exist)\n",
    "\"w\": Write (creates a new file or overwrites if file exists)\n",
    "\"a\": Append (adds to the end of the file without overwriting)\n",
    "\"b\": Binary mode (for non-text files like images)'''"
   ]
  },
  {
   "cell_type": "code",
   "execution_count": null,
   "id": "5c9e2f62",
   "metadata": {},
   "outputs": [],
   "source": [
    "'''2. Reading from a File\n",
    "Example:\n",
    "Let's say we have a file called example.txt that contains:\n",
    "Hello, world!\n",
    "This is a sample text.'''\n",
    "\n",
    "# To read from this file:\n",
    "# Opening the file in read mode\n",
    "file = open(\"example.txt\", \"r\")\n",
    "\n",
    "# Reading the content\n",
    "content = file.read()\n",
    "\n",
    "# Print the content\n",
    "print(content)\n",
    "\n",
    "# Don't forget to close the file\n",
    "file.close()\n",
    "\n",
    "#🟢 Output:\n",
    "#Hello, world!\n",
    "#This is a sample text.\n"
   ]
  },
  {
   "cell_type": "code",
   "execution_count": null,
   "id": "875b4baa",
   "metadata": {},
   "outputs": [],
   "source": [
    "'''3. Writing to a File\n",
    "If you want to write to a file, use the \"w\" mode. If the file doesn't exist, Python will create it!'''\n",
    "\n",
    "#Example:\n",
    "# Opening the file in write mode (this will overwrite existing content)\n",
    "file = open(\"example.txt\", \"w\")\n",
    "\n",
    "# Writing content to the file\n",
    "file.write(\"This is a new line!\")\n",
    "\n",
    "# Close the file after writing\n",
    "file.close()\n",
    "\n",
    "#📝 Now the content of example.txt will be:This is a new line!\n"
   ]
  },
  {
   "cell_type": "code",
   "execution_count": null,
   "id": "15ebaa8f",
   "metadata": {},
   "outputs": [],
   "source": [
    "'''4. Appending to a File\n",
    "If you want to add new content to an existing file (without erasing the previous content), use \"a\" mode.'''\n",
    "\n",
    "#Example:\n",
    "# Opening the file in append mode\n",
    "file = open(\"example.txt\", \"a\")\n",
    "\n",
    "# Adding a new line to the file\n",
    "file.write(\"\\nAdding more content.\")\n",
    "\n",
    "# Close the file\n",
    "file.close()\n",
    "\n",
    "#📝 Now the content of example.txt will be:\n",
    "# This is a new line!\n",
    "# Adding more content."
   ]
  },
  {
   "cell_type": "code",
   "execution_count": null,
   "id": "0da8b056",
   "metadata": {},
   "outputs": [],
   "source": [
    "'''5. Closing the File\n",
    "Whenever you’re done with a file, it's important to close it using file.close(). \n",
    "This makes sure that:\n",
    "The data is saved\n",
    "No resources are left open (important for memory management)'''"
   ]
  },
  {
   "cell_type": "code",
   "execution_count": null,
   "id": "680a829d",
   "metadata": {},
   "outputs": [],
   "source": [
    "'''6. The with Statement (Best Practice)\n",
    "You can automate the file opening and closing process using the with statement. When using with, Python will automatically close the file once you’re done with it.\n",
    "\n",
    "🧠 Why Use with?\n",
    "No need to manually close the file (file.close() is automatic).\n",
    "\n",
    "It ensures the file is closed even if something goes wrong inside the block.'''\n",
    "\n",
    "#Syntax with with:\n",
    "with open(\"filename.txt\", \"mode\") as file:\n",
    "    # Your code to read/write the file\n",
    "\n",
    "#Example with with (Reading):\n",
    " with open(\"example.txt\", \"r\") as file:\n",
    "    content = file.read()\n",
    "    print(content)\n",
    "\n",
    "#This will automatically close the file after reading. You don’t need to call file.close().\n",
    "\n",
    "#Example with with (Writing):\n",
    "with open(\"example.txt\", \"w\") as file:\n",
    "    file.write(\"This is a new line after using 'with'!\")"
   ]
  },
  {
   "cell_type": "code",
   "execution_count": null,
   "id": "047001ff",
   "metadata": {},
   "outputs": [],
   "source": [
    "'''🧠 Recap:\n",
    "open()    : Use this to open a file.\n",
    "Modes     : \"r\" for reading, \"w\" for writing, \"a\" for appending.\n",
    "Read/Write: .read() to read, .write() to write.\n",
    "close()   : Always close a file after use (or use with to avoid this).\n",
    "with      : Makes it easier to handle files safely.'''"
   ]
  },
  {
   "cell_type": "code",
   "execution_count": null,
   "id": "a2d056dc",
   "metadata": {},
   "outputs": [],
   "source": [
    "'''🔧 Example: Complete File Handling Program\n",
    "Let’s put everything together in a simple program that:\n",
    "Reads from a file,\n",
    "Writes to a file,\n",
    "Appends to a file,\n",
    "Uses with for automatic handling.'''"
   ]
  },
  {
   "cell_type": "code",
   "execution_count": null,
   "id": "c1175876",
   "metadata": {},
   "outputs": [],
   "source": [
    "# Reading the file\n",
    "with open(\"example.txt\", \"r\") as file:\n",
    "    content = file.read()\n",
    "    print(\"File content before writing:\")\n",
    "    print(content)\n",
    "\n",
    "# Writing to the file\n",
    "with open(\"example.txt\", \"w\") as file:\n",
    "    file.write(\"This is the new content!\")\n",
    "\n",
    "# Appending to the file\n",
    "with open(\"example.txt\", \"a\") as file:\n",
    "    file.write(\"\\nThis is some added text.\")\n",
    "\n",
    "# Final reading of the file\n",
    "with open(\"example.txt\", \"r\") as file:\n",
    "    final_content = file.read()\n",
    "    print(\"\\nFile content after writing and appending:\")\n",
    "    print(final_content)"
   ]
  },
  {
   "cell_type": "code",
   "execution_count": null,
   "id": "6db98765",
   "metadata": {},
   "outputs": [],
   "source": [
    "# Output:\n",
    "'''\n",
    "File content before writing:\n",
    "Hello, world!\n",
    "This is a sample text.\n",
    "\n",
    "File content after writing and appending:\n",
    "This is the new content!\n",
    "This is some added text.'''"
   ]
  }
 ],
 "metadata": {
  "kernelspec": {
   "display_name": "Python 3",
   "language": "python",
   "name": "python3"
  },
  "language_info": {
   "codemirror_mode": {
    "name": "ipython",
    "version": 3
   },
   "file_extension": ".py",
   "mimetype": "text/x-python",
   "name": "python",
   "nbconvert_exporter": "python",
   "pygments_lexer": "ipython3",
   "version": "3.12.5"
  }
 },
 "nbformat": 4,
 "nbformat_minor": 5
}
