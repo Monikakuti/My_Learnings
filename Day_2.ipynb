{
 "cells": [
  {
   "cell_type": "code",
   "execution_count": null,
   "id": "40ae4f67",
   "metadata": {},
   "outputs": [],
   "source": [
    "#💡 What’s an if statement?\n",
    "# Think of it like this:\n",
    "# “If it’s raining, I’ll stay in. If not, I’ll go out.”"
   ]
  },
  {
   "cell_type": "code",
   "execution_count": 1,
   "id": "f801b79a",
   "metadata": {},
   "outputs": [
    {
     "name": "stdout",
     "output_type": "stream",
     "text": [
      "Bring an umbrella ☔\n"
     ]
    }
   ],
   "source": [
    "weather = \"rainy\"\n",
    "\n",
    "if weather == \"rainy\":\n",
    "    print(\"Bring an umbrella ☔\")\n",
    "else:\n",
    "    print(\"Go enjoy the sunshine 🌞\")\n"
   ]
  },
  {
   "cell_type": "code",
   "execution_count": null,
   "id": "583c86d3",
   "metadata": {},
   "outputs": [],
   "source": [
    "#🧠 Breaking it down:\n",
    "# if → the condition you’re checking\n",
    "# == → means “is equal to”\n",
    "# else → what to do if the condition is not true\n",
    "# : → always use this after if and else\n",
    "# Indentation (spacing!) → super important in Python!"
   ]
  },
  {
   "cell_type": "code",
   "execution_count": 2,
   "id": "c3b91d0a",
   "metadata": {},
   "outputs": [
    {
     "name": "stdout",
     "output_type": "stream",
     "text": [
      "YAAAY! Keep smiling, sunshine ☀️\n"
     ]
    }
   ],
   "source": [
    "mood = input(\"How are you feeling today? (happy/sad): \")\n",
    "\n",
    "if mood == \"happy\":\n",
    "    print(\"YAAAY! Keep smiling, sunshine ☀️\")\n",
    "else:\n",
    "    print(\"It’s okay, I’m hugging you through the screen 🤗💖\")\n"
   ]
  },
  {
   "cell_type": "code",
   "execution_count": 3,
   "id": "8307915a",
   "metadata": {},
   "outputs": [
    {
     "name": "stdout",
     "output_type": "stream",
     "text": [
      "Go rest, sweet soul 🥺🛌\n"
     ]
    }
   ],
   "source": [
    "mood = input(\"How are you feeling today? \")\n",
    "\n",
    "if mood == \"happy\":\n",
    "    print(\"I’m so happy you’re happy 😭💖\")\n",
    "elif mood == \"tired\":\n",
    "    print(\"Go rest, sweet soul 🥺🛌\")\n",
    "elif mood == \"angry\":\n",
    "    print(\"Deep breaths, I’m here 😤🫂\")\n",
    "else:\n",
    "    print(\"Whatever it is, I’ve got you 💗\")\n"
   ]
  },
  {
   "cell_type": "code",
   "execution_count": 4,
   "id": "668c0d81",
   "metadata": {},
   "outputs": [
    {
     "name": "stdout",
     "output_type": "stream",
     "text": [
      "Healthy and glowing just like you 🍓✨\n"
     ]
    }
   ],
   "source": [
    "snack = input(\"What snack are you craving? \")\n",
    "\n",
    "if snack == \"chocolate\":\n",
    "    print(\"A queen deserves her chocolate 👑🍫\")\n",
    "elif snack == \"chips\":\n",
    "    print(\"Crunch that stress away 😌🥔\")\n",
    "elif snack == \"fruit\":\n",
    "    print(\"Healthy and glowing just like you 🍓✨\")\n",
    "else:\n",
    "    print(\"Whatever it is, TREAT YO SELF 💅💖\")\n"
   ]
  },
  {
   "cell_type": "code",
   "execution_count": null,
   "id": "c04b62b0",
   "metadata": {},
   "outputs": [],
   "source": [
    "# For Loop\n",
    "#Instead of writing something 5 times manually, you let a loop handle it like:\n",
    "# Repeat this for me, I’m too fabulous to do it myself 💁‍♀️”"
   ]
  },
  {
   "cell_type": "code",
   "execution_count": null,
   "id": "97427d5d",
   "metadata": {},
   "outputs": [
    {
     "name": "stdout",
     "output_type": "stream",
     "text": [
      "I love you 🥹💖\n",
      "I love you 🥹💖\n",
      "I love you 🥹💖\n",
      "I love you 🥹💖\n",
      "I love you 🥹💖\n"
     ]
    }
   ],
   "source": [
    "for i in range(5):\n",
    "    print(\"I love you 🥹💖\")\n",
    "\n",
    "#range(5) means: do it 5 times (from 0 to 4)\n",
    "# i is just a counter (you can name it whatever)\n",
    "# The indented line is what gets repeated\n"
   ]
  },
  {
   "cell_type": "code",
   "execution_count": null,
   "id": "98151c14",
   "metadata": {},
   "outputs": [
    {
     "name": "stdout",
     "output_type": "stream",
     "text": [
      "Craving: chocolate\n",
      "Craving: chips\n",
      "Craving: fruit\n",
      "Craving: cookies\n"
     ]
    }
   ],
   "source": [
    "snacks = [\"chocolate\", \"chips\", \"fruit\", \"cookies\"]\n",
    "\n",
    "for snack in snacks:\n",
    "    print(\"Craving:\", snack)\n",
    "\n",
    "#Python will loop through each item in the list and print it out"
   ]
  },
  {
   "cell_type": "code",
   "execution_count": 7,
   "id": "d93e53ab",
   "metadata": {},
   "outputs": [
    {
     "name": "stdout",
     "output_type": "stream",
     "text": [
      "Monika is THAT girl 💅🔥\n",
      "Monika is THAT girl 💅🔥\n",
      "Monika is THAT girl 💅🔥\n",
      "Monika is THAT girl 💅🔥\n",
      "Monika is THAT girl 💅🔥\n",
      "Monika is THAT girl 💅🔥\n",
      "Monika is THAT girl 💅🔥\n",
      "Monika is THAT girl 💅🔥\n",
      "Monika is THAT girl 💅🔥\n",
      "Monika is THAT girl 💅🔥\n"
     ]
    }
   ],
   "source": [
    "for i in range(10):\n",
    "    print(\"Monika is THAT girl 💅🔥\")\n"
   ]
  },
  {
   "cell_type": "code",
   "execution_count": 9,
   "id": "aaadaa49",
   "metadata": {},
   "outputs": [
    {
     "name": "stdout",
     "output_type": "stream",
     "text": [
      "Day 1 : Monika showed up ✨\n",
      "Day 2 : Monika showed up ✨\n",
      "Day 3 : Monika showed up ✨\n",
      "Day 4 : Monika showed up ✨\n",
      "Day 5 : Monika showed up ✨\n"
     ]
    }
   ],
   "source": [
    "# a loop that counts from 1 to 5 and prints:\n",
    "\n",
    "for day in range(1, 6):\n",
    "    print(\"Day\", day, \": Monika showed up ✨\")\n"
   ]
  },
  {
   "cell_type": "code",
   "execution_count": null,
   "id": "e0e12eb9",
   "metadata": {},
   "outputs": [],
   "source": [
    "#While Loops — Repeat Until You Say Stop\n",
    "# A while loop keeps going as long as a condition is TRUE.\n",
    "# It’s like saying:\n",
    "# “While I’m not tired… keep scrolling TikTok 🫠”"
   ]
  },
  {
   "cell_type": "code",
   "execution_count": null,
   "id": "c1911c77",
   "metadata": {},
   "outputs": [
    {
     "name": "stdout",
     "output_type": "stream",
     "text": [
      "Day 1 : Monika is still showing up 💪✨\n",
      "Day 2 : Monika is still showing up 💪✨\n",
      "Day 3 : Monika is still showing up 💪✨\n",
      "Day 4 : Monika is still showing up 💪✨\n",
      "Day 5 : Monika is still showing up 💪✨\n"
     ]
    }
   ],
   "source": [
    "count = 1\n",
    "\n",
    "while count <= 5:\n",
    "    print(\"Day\", count, \": Monika is still showing up 💪✨\")\n",
    "    count += 1  # this adds 1 to count each time\n",
    "    # if you don’t update the variable (like count += 1)… it’ll run forever 😳 This is called an infinite loop\n"
   ]
  },
  {
   "cell_type": "code",
   "execution_count": 11,
   "id": "9d75a4a6",
   "metadata": {},
   "outputs": [
    {
     "name": "stdout",
     "output_type": "stream",
     "text": [
      "Access granted 💖 You are everything 😭✨\n"
     ]
    }
   ],
   "source": [
    "password = \"\"\n",
    "\n",
    "while password != \"monika\":\n",
    "    password = input(\"Enter the secret code to unlock the love: \")\n",
    "\n",
    "print(\"Access granted 💖 You are everything 😭✨\")\n"
   ]
  },
  {
   "cell_type": "code",
   "execution_count": 13,
   "id": "eb1fa215",
   "metadata": {},
   "outputs": [
    {
     "name": "stdout",
     "output_type": "stream",
     "text": [
      "Wrong answer 💅 Try again, babe.\n",
      "YESSSS 😭 You know the queen's name 👑💖\n"
     ]
    }
   ],
   "source": [
    "password = \"\"\n",
    "\n",
    "while password != \"monika\":\n",
    "    password = input(\"Who’s that girl? Say her name to enter: \")\n",
    "    if password != \"monika\":\n",
    "        print(\"Wrong answer 💅 Try again, babe.\")\n",
    "\n",
    "print(\"YESSSS 😭 You know the queen's name 👑💖\")\n"
   ]
  },
  {
   "cell_type": "code",
   "execution_count": null,
   "id": "5c01401c",
   "metadata": {},
   "outputs": [],
   "source": []
  },
  {
   "cell_type": "code",
   "execution_count": null,
   "id": "fcfa5835",
   "metadata": {},
   "outputs": [
    {
     "name": "stdout",
     "output_type": "stream",
     "text": [
      "1 is odd 🌟\n",
      "2 is even 💫\n",
      "3 is odd 🌟\n",
      "4 is even 💫\n",
      "5 is odd 🌟\n",
      "6 is even 💫\n",
      "7 is odd 🌟\n",
      "8 is even 💫\n",
      "9 is odd 🌟\n",
      "10 is even 💫\n"
     ]
    }
   ],
   "source": [
    "# Loop through numbers 1 to 10, and print whether each one is even or odd.\n",
    "for number in range(1, 11):\n",
    "    if number % 2 == 0:\n",
    "        print(number, \"is even 💫\")\n",
    "    else:\n",
    "        print(number, \"is odd 🌟\")\n",
    "\n",
    "#% is the modulo operator — it gives the remainder.\n",
    "# If the number divided by 2 has no remainder → it’s even!"
   ]
  },
  {
   "cell_type": "code",
   "execution_count": 15,
   "id": "84fa0193",
   "metadata": {},
   "outputs": [
    {
     "name": "stdout",
     "output_type": "stream",
     "text": [
      "Too low ⬇️ Try again!\n",
      "Too high ⬆️ Try again!\n",
      "YAAAASSS 🔥 You got it right!\n"
     ]
    }
   ],
   "source": [
    "#Secret Code Guessing Game\n",
    "# Let the user guess a number until they get it right.\n",
    "\n",
    "secret_number = 7\n",
    "guess = 0\n",
    "\n",
    "while guess != secret_number:\n",
    "    guess = int(input(\"Guess the secret number (1–10): \"))\n",
    "    if guess < secret_number:\n",
    "        print(\"Too low ⬇️ Try again!\")\n",
    "    elif guess > secret_number:\n",
    "        print(\"Too high ⬆️ Try again!\")\n",
    "    else:\n",
    "        print(\"YAAAASSS 🔥 You got it right!\")\n"
   ]
  },
  {
   "cell_type": "code",
   "execution_count": 16,
   "id": "c32832a6",
   "metadata": {},
   "outputs": [
    {
     "name": "stdout",
     "output_type": "stream",
     "text": [
      "I’m smiling with you 😭💖\n",
      "Sending big hugs 🫂💛\n",
      "Take a breath babe, I’m here 😌🫧\n"
     ]
    }
   ],
   "source": [
    "#Mood Tracker\n",
    "# Ask the user their mood 3 times. Print a loving response each time.\n",
    "\n",
    "for i in range(3):\n",
    "    mood = input(\"How are you feeling today? \")\n",
    "\n",
    "    if mood == \"happy\":\n",
    "        print(\"I’m smiling with you 😭💖\")\n",
    "    elif mood == \"sad\":\n",
    "        print(\"Sending big hugs 🫂💛\")\n",
    "    elif mood == \"angry\":\n",
    "        print(\"Take a breath babe, I’m here 😌🫧\")\n",
    "    else:\n",
    "        print(\"Whatever you feel—it’s valid. I love you 😭❤️\")\n"
   ]
  },
  {
   "cell_type": "code",
   "execution_count": 17,
   "id": "16d55893",
   "metadata": {},
   "outputs": [
    {
     "name": "stdout",
     "output_type": "stream",
     "text": [
      "\n",
      "Menu:\n",
      "1. Show a compliment\n",
      "2. Tell a joke\n",
      "3. Exit\n",
      "You're glowing like a sunrise 😌✨\n",
      "\n",
      "Menu:\n",
      "1. Show a compliment\n",
      "2. Tell a joke\n",
      "3. Exit\n",
      "Why did the Python break up? It had too many loops 😭🐍💔\n",
      "\n",
      "Menu:\n",
      "1. Show a compliment\n",
      "2. Tell a joke\n",
      "3. Exit\n",
      "Invalid option! Try again 💅\n",
      "\n",
      "Menu:\n",
      "1. Show a compliment\n",
      "2. Tell a joke\n",
      "3. Exit\n",
      "Bye babe! Come back soon 💖\n"
     ]
    }
   ],
   "source": [
    "# Create a menu system that repeats until the user chooses to quit.\n",
    "\n",
    "choice = \"\"\n",
    "\n",
    "while choice != \"3\":\n",
    "    print(\"\\nMenu:\")\n",
    "    print(\"1. Show a compliment\")\n",
    "    print(\"2. Tell a joke\")\n",
    "    print(\"3. Exit\")\n",
    "\n",
    "    choice = input(\"Choose an option: \")\n",
    "\n",
    "    if choice == \"1\":\n",
    "        print(\"You're glowing like a sunrise 😌✨\")\n",
    "    elif choice == \"2\":\n",
    "        print(\"Why did the Python break up? It had too many loops 😭🐍💔\")\n",
    "    elif choice == \"3\":\n",
    "        print(\"Bye babe! Come back soon 💖\")\n",
    "    else:\n",
    "        print(\"Invalid option! Try again 💅\")\n"
   ]
  },
  {
   "cell_type": "code",
   "execution_count": 18,
   "id": "7a2857ee",
   "metadata": {},
   "outputs": [
    {
     "name": "stdout",
     "output_type": "stream",
     "text": [
      "You’re still growing, still glowing 🌱✨\n",
      "Be kind to yourself. Always 💖\n"
     ]
    }
   ],
   "source": [
    "print(\"You’re still growing, still glowing 🌱✨\\nBe kind to yourself. Always 💖\")\n"
   ]
  }
 ],
 "metadata": {
  "kernelspec": {
   "display_name": "Python 3",
   "language": "python",
   "name": "python3"
  },
  "language_info": {
   "codemirror_mode": {
    "name": "ipython",
    "version": 3
   },
   "file_extension": ".py",
   "mimetype": "text/x-python",
   "name": "python",
   "nbconvert_exporter": "python",
   "pygments_lexer": "ipython3",
   "version": "3.12.5"
  }
 },
 "nbformat": 4,
 "nbformat_minor": 5
}
