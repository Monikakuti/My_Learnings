{
 "cells": [
  {
   "cell_type": "code",
   "execution_count": null,
   "id": "aef067ee",
   "metadata": {},
   "outputs": [],
   "source": [
    "#Python Basics: Variables, Data Types, Input/Output"
   ]
  },
  {
   "cell_type": "code",
   "execution_count": 2,
   "id": "6728ef3e",
   "metadata": {},
   "outputs": [
    {
     "name": "stdout",
     "output_type": "stream",
     "text": [
      "Moni\n",
      "25\n",
      "5.6\n",
      "True\n"
     ]
    }
   ],
   "source": [
    "#Variables and Data Types\n",
    "# Example\n",
    "name = \"Moni\"        # string\n",
    "age = 25              # integer\n",
    "height = 5.6          # float\n",
    "is_student = True     # boolean\n",
    "\n",
    "print(name)\n",
    "print(age)\n",
    "print(height)\n",
    "print(is_student)\n"
   ]
  },
  {
   "cell_type": "code",
   "execution_count": 3,
   "id": "ef7fc098",
   "metadata": {},
   "outputs": [
    {
     "name": "stdout",
     "output_type": "stream",
     "text": [
      "Hello Moni\n",
      "You are 24 years old.\n"
     ]
    }
   ],
   "source": [
    "#Input from the User\n",
    "name = input(\"What's your name? \")\n",
    "print(\"Hello\", name)\n",
    "\n",
    "age = input(\"How old are you? \")\n",
    "print(f\"You are {age} years old.\")\n"
   ]
  },
  {
   "cell_type": "code",
   "execution_count": 4,
   "id": "73092b7d",
   "metadata": {},
   "outputs": [
    {
     "name": "stdout",
     "output_type": "stream",
     "text": [
      "13\n",
      "7\n",
      "30\n",
      "3.3333333333333335\n",
      "1\n"
     ]
    }
   ],
   "source": [
    "#Basic Math Operators\n",
    "a = 10\n",
    "b = 3\n",
    "\n",
    "print(a + b)   # 13\n",
    "print(a - b)   # 7\n",
    "print(a * b)   # 30\n",
    "print(a / b)   # 3.33\n",
    "print(a % b)   # 1 (remainder)\n"
   ]
  },
  {
   "cell_type": "code",
   "execution_count": null,
   "id": "9b14176e",
   "metadata": {},
   "outputs": [
    {
     "name": "stdout",
     "output_type": "stream",
     "text": [
      "Hey Moni , You will be 34 in 10 Years \n"
     ]
    }
   ],
   "source": [
    "#Mini Exercise\n",
    "Name=input(\"What is your Name ?\")\n",
    "Age=int(input(\"What is your Age ?\"))\n",
    "print(f\"Hey {Name} , You will be {Age+10} in 10 Years \")"
   ]
  },
  {
   "cell_type": "code",
   "execution_count": null,
   "id": "f299e6ac",
   "metadata": {},
   "outputs": [],
   "source": [
    "#If-Else, Loops, and Functions\n",
    "\"\"\"These are core concepts in programming — \n",
    "used everywhere in data science: filtering data, applying conditions, and repeating tasks.\"\"\""
   ]
  },
  {
   "cell_type": "code",
   "execution_count": null,
   "id": "dfc1ec3d",
   "metadata": {},
   "outputs": [
    {
     "name": "stdout",
     "output_type": "stream",
     "text": [
      "You're an adult.\n"
     ]
    }
   ],
   "source": [
    "#if-else Statements\n",
    "#Used when you want the program to make decisions.\n",
    "\n",
    "age = int(input(\"Enter your age: \"))\n",
    "if age >= 18:\n",
    "    print(\"You're an adult.\")\n",
    "else:\n",
    "    print(\"You're a minor.\")"
   ]
  },
  {
   "cell_type": "code",
   "execution_count": 12,
   "id": "0b466ede",
   "metadata": {},
   "outputs": [
    {
     "name": "stdout",
     "output_type": "stream",
     "text": [
      "Num id Odd\n"
     ]
    }
   ],
   "source": [
    "#Checkin num is Even or Odd\n",
    "Num=int(input(\"Enter a Number:\"))\n",
    "if Num%2==0:\n",
    "    print(\"Num is Even\")\n",
    "else:\n",
    "    print(\"Num id Odd\")"
   ]
  },
  {
   "cell_type": "code",
   "execution_count": null,
   "id": "1fddbf8b",
   "metadata": {},
   "outputs": [
    {
     "name": "stdout",
     "output_type": "stream",
     "text": [
      "Hello 0\n",
      "Hello 1\n",
      "Hello 2\n",
      "Hello 3\n",
      "Hello 4\n"
     ]
    }
   ],
   "source": [
    "#For Loop \n",
    "#Used to repeat something a specific number of times.\n",
    "#Think of a to-do list: You go through each item one by one.\n",
    "\n",
    "for i in range(5):\n",
    "    print(\"Hello\", i)"
   ]
  },
  {
   "cell_type": "code",
   "execution_count": 15,
   "id": "ba3f3161",
   "metadata": {},
   "outputs": [
    {
     "name": "stdout",
     "output_type": "stream",
     "text": [
      "1\n",
      "2\n",
      "3\n",
      "4\n",
      "5\n",
      "6\n",
      "7\n",
      "8\n",
      "9\n",
      "10\n"
     ]
    }
   ],
   "source": [
    "#Print numbers 1 to 10 using a for loop.\n",
    "\n",
    "for i in range(10):\n",
    "    print(i+1)"
   ]
  },
  {
   "cell_type": "code",
   "execution_count": 17,
   "id": "8e2ecd6a",
   "metadata": {},
   "outputs": [
    {
     "name": "stdout",
     "output_type": "stream",
     "text": [
      "0\n",
      "1\n",
      "2\n",
      "3\n",
      "4\n",
      "5\n",
      "6\n",
      "7\n",
      "8\n",
      "9\n"
     ]
    }
   ],
   "source": [
    "#Print numbers 0 to 9 using a for loop.\n",
    "for i in range(10):\n",
    "    print(i)"
   ]
  },
  {
   "cell_type": "code",
   "execution_count": null,
   "id": "a91b44db",
   "metadata": {},
   "outputs": [
    {
     "name": "stdout",
     "output_type": "stream",
     "text": [
      "1\n",
      "2\n",
      "3\n",
      "4\n",
      "5\n"
     ]
    }
   ],
   "source": [
    "#While Loop\n",
    "#Repeats until a condition is True\n",
    "#Imagine this: You keep eating chips until the bag is empty.\n",
    "\n",
    "x = 1\n",
    "while x <= 5: #loop will keep running as long as x is less than or equal to 5.\n",
    "    print(x)\n",
    "    x += 1\n"
   ]
  },
  {
   "cell_type": "code",
   "execution_count": null,
   "id": "4b662cac",
   "metadata": {},
   "outputs": [
    {
     "name": "stdout",
     "output_type": "stream",
     "text": [
      "1\n",
      "2\n",
      "3\n",
      "4\n",
      "5\n",
      "6\n",
      "7\n",
      "8\n",
      "9\n",
      "10\n"
     ]
    }
   ],
   "source": [
    "#Program that prints numbers until it reaches 10.\n",
    "x=1\n",
    "while x<=10:\n",
    "    print(x)\n",
    "    x+=1"
   ]
  },
  {
   "cell_type": "code",
   "execution_count": 21,
   "id": "4ce15930",
   "metadata": {},
   "outputs": [
    {
     "name": "stdout",
     "output_type": "stream",
     "text": [
      "2\n",
      "4\n",
      "6\n",
      "8\n",
      "10\n"
     ]
    }
   ],
   "source": [
    "#Print even numbers from 2 to 10 using while.\n",
    "x=2\n",
    "while x<=10:\n",
    "    print(x)\n",
    "    x+=2"
   ]
  },
  {
   "cell_type": "code",
   "execution_count": null,
   "id": "01492d37",
   "metadata": {},
   "outputs": [],
   "source": [
    "#Functions\n",
    "#Reusable blocks of code.\n",
    "#Think of a blender: You don’t need to build a new blender every time — just reuse it.\n",
    "def greet(name):\n",
    "    print(f\"Hello, {name}!\")"
   ]
  },
  {
   "cell_type": "code",
   "execution_count": null,
   "id": "957ffa4f",
   "metadata": {},
   "outputs": [],
   "source": [
    "\"\"\" def = short for define, used to create a function.\n",
    "\n",
    "function_name = the name you choose for your function.\n",
    "\n",
    "() = parentheses, where you can pass inputs (called parameters) if needed.\n",
    "\n",
    ": = starts the function block.\n",
    "\n",
    "The indented code inside is what runs when the function is called \"\"\""
   ]
  },
  {
   "cell_type": "code",
   "execution_count": 25,
   "id": "3d9ef56f",
   "metadata": {},
   "outputs": [
    {
     "name": "stdout",
     "output_type": "stream",
     "text": [
      "Hello, Moni!\n"
     ]
    }
   ],
   "source": [
    "greet(\"Moni\")"
   ]
  },
  {
   "cell_type": "code",
   "execution_count": 26,
   "id": "7390a6ba",
   "metadata": {},
   "outputs": [
    {
     "name": "stdout",
     "output_type": "stream",
     "text": [
      "Sum is 8\n"
     ]
    }
   ],
   "source": [
    "def add(a, b):\n",
    "    return a + b\n",
    "\n",
    "result = add(5, 3)\n",
    "print(\"Sum is\", result)\n"
   ]
  },
  {
   "cell_type": "code",
   "execution_count": 28,
   "id": "ca416034",
   "metadata": {},
   "outputs": [],
   "source": [
    "def analyze_number(num):\n",
    "    # Check if the number is positive, negative or zero\n",
    "    if num > 0:\n",
    "        print('Positive Number')\n",
    "    elif num < 0:\n",
    "        print('Negative Number')\n",
    "    else:\n",
    "        print('Zero')\n",
    "\n",
    "    # Print numbers from 1 to num (only if num is positive)\n",
    "    if num > 0:\n",
    "        for i in range(1, num + 1):\n",
    "            print(i)\n"
   ]
  },
  {
   "cell_type": "code",
   "execution_count": 29,
   "id": "796811d8",
   "metadata": {},
   "outputs": [
    {
     "name": "stdout",
     "output_type": "stream",
     "text": [
      "Positive Number\n",
      "1\n",
      "2\n",
      "3\n",
      "4\n",
      "5\n",
      "6\n",
      "7\n"
     ]
    }
   ],
   "source": [
    "analyze_number(7)"
   ]
  },
  {
   "cell_type": "code",
   "execution_count": null,
   "id": "958b0b23",
   "metadata": {},
   "outputs": [],
   "source": []
  }
 ],
 "metadata": {
  "kernelspec": {
   "display_name": "Python 3",
   "language": "python",
   "name": "python3"
  },
  "language_info": {
   "codemirror_mode": {
    "name": "ipython",
    "version": 3
   },
   "file_extension": ".py",
   "mimetype": "text/x-python",
   "name": "python",
   "nbconvert_exporter": "python",
   "pygments_lexer": "ipython3",
   "version": "3.12.5"
  }
 },
 "nbformat": 4,
 "nbformat_minor": 5
}
